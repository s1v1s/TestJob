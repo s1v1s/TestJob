{
 "cells": [
  {
   "cell_type": "markdown",
   "metadata": {},
   "source": [
    "Библиотеки"
   ]
  },
  {
   "cell_type": "code",
   "execution_count": 234,
   "metadata": {},
   "outputs": [],
   "source": [
    "import timeit\n",
    "from typing import Callable, Any, Tuple, Type"
   ]
  },
  {
   "cell_type": "markdown",
   "metadata": {},
   "source": [
    "Вопрос №1\n",
    "\n",
    "На языке Python написать алгоритм (функцию) определения четности целого числа,\n",
    "который будет аналогичен нижеприведенному по функциональности, но отличен по своей сути.\n",
    "Объяснить плюсы и минусы обеих реализаций. \n",
    "\n",
    "Пример: \n",
    "def isEven(value):\n",
    "      return value % 2 == 0"
   ]
  },
  {
   "cell_type": "code",
   "execution_count": 235,
   "metadata": {},
   "outputs": [],
   "source": [
    "def measure_time(func: Callable, *args: Any, num_runs: int = 10000, print_time: bool = False, **kwargs: Any) -> float:\n",
    "    \"\"\"Измеряет среднее время выполнения функции за num_runs запусков.\"\"\"\n",
    "    wrapped_func = lambda: func(*args, **kwargs)\n",
    "    elapsed_time = timeit.timeit(wrapped_func, number=num_runs)\n",
    "    avg_time = elapsed_time / num_runs\n",
    "\n",
    "    if print_time:\n",
    "        print(f\"Ср. время ф-ии {func.__name__:<15} за {num_runs} запусков: {avg_time:.8f} сек.\")\n",
    "\n",
    "    return avg_time\n",
    "\n",
    "def compare_functions(func1: Callable, func2: Callable, *args: Any, repetitions: int = 100, **kwargs: Any) -> None:\n",
    "    \"\"\"Сравнивает время выполнения двух функций на основе нескольких запусков.\"\"\"\n",
    "    results = {\"func1\": 0, \"func2\": 0, \"equal\": 0}\n",
    "\n",
    "    for _ in range(repetitions):\n",
    "        time1 = measure_time(func1, *args, **kwargs)\n",
    "        time2 = measure_time(func2, *args, **kwargs)\n",
    "\n",
    "        if time1 < time2:\n",
    "            results[\"func1\"] += 1\n",
    "        elif time2 < time1:\n",
    "            results[\"func2\"] += 1\n",
    "        else:\n",
    "            results[\"equal\"] += 1\n",
    "\n",
    "    print_results(func1.__name__, func2.__name__, results, repetitions)\n",
    "\n",
    "def print_results(func1_name: str, func2_name: str, results: dict, repetitions: int) -> None:\n",
    "    \"\"\"Выводит результаты сравнения функций.\"\"\"\n",
    "    print(f\"После {repetitions} запусков:\")\n",
    "    print(f\"Функция '{func1_name}' быстрее {results['func1']} раз.\")\n",
    "    print(f\"Функция '{func2_name}' быстрее {results['func2']} раз.\")\n",
    "    print(f\"Одинаковое время выполнения {results['equal']} раз.\")\n",
    "\n",
    "    if results[\"func1\"] > results[\"func2\"]:\n",
    "        print(f\"Функция '{func1_name}' чаще быстрее.\")\n",
    "    elif results[\"func2\"] > results[\"func1\"]:\n",
    "        print(f\"Функция '{func2_name}' чаще быстрее.\")\n",
    "    else:\n",
    "        print(\"Обе функции имеют одинаковую скорость.\")"
   ]
  },
  {
   "cell_type": "code",
   "execution_count": 236,
   "metadata": {},
   "outputs": [],
   "source": [
    "def is_even(value: int) -> bool:\n",
    "      \"\"\"Проверка чётности с помощью нахождение остатка от деления\"\"\"\n",
    "      return value % 2 == 0\n",
    "\n",
    "def is_even_bitwise(value: int) -> bool:\n",
    "      \"\"\"\n",
    "      Проверка чётности с помощью побитового оператора И (&)\n",
    "\n",
    "      Если последний бит числа не установлен (== 0), то число чётное. Наоборот, бит установлен - число чётное\n",
    "\n",
    "      Пример:\n",
    "            Дано число 5 (101 в двоичной системе)\n",
    "            Применим 5 & 1:\n",
    "                  101 (5)\n",
    "            &     001 (1)\n",
    "            ---------\n",
    "                  001 (1)\n",
    "            Далее проверяем наличие бита:\n",
    "            1 == 0 #False, нечётное\n",
    "      \"\"\"\n",
    "      return value & 1 == 0"
   ]
  },
  {
   "cell_type": "code",
   "execution_count": 237,
   "metadata": {},
   "outputs": [
    {
     "name": "stdout",
     "output_type": "stream",
     "text": [
      "Ср. время ф-ии is_even         за 10000 запусков: 0.00000022 сек.\n",
      "Ср. время ф-ии is_even_bitwise за 10000 запусков: 0.00000021 сек.\n"
     ]
    },
    {
     "data": {
      "text/plain": [
       "2.1123000005900394e-07"
      ]
     },
     "execution_count": 237,
     "metadata": {},
     "output_type": "execute_result"
    }
   ],
   "source": [
    "measure_time(is_even, 15, print_time=True)\n",
    "measure_time(is_even_bitwise, 15, print_time=True)"
   ]
  },
  {
   "cell_type": "code",
   "execution_count": 238,
   "metadata": {},
   "outputs": [
    {
     "name": "stdout",
     "output_type": "stream",
     "text": [
      "После 100 запусков:\n",
      "Функция 'is_even' быстрее 17 раз.\n",
      "Функция 'is_even_bitwise' быстрее 83 раз.\n",
      "Одинаковое время выполнения 0 раз.\n",
      "Функция 'is_even_bitwise' чаще быстрее.\n"
     ]
    }
   ],
   "source": [
    "compare_functions(is_even, is_even_bitwise, 15, repetitions=100)"
   ]
  },
  {
   "cell_type": "markdown",
   "metadata": {},
   "source": [
    "Выводы:\n",
    "\n",
    "1)Функции выполняют одну и ту же задачу - определение чётности числа\n",
    "\n",
    "2)ФУнкция isEven (остаток от деления) более универальна и позволяет принимать на вход целые числа (положительные,отрциательные, ноль), а также дробные\n",
    "\n",
    "3)Функция isEvenBitwise (побитовый 'И') чаще выполняется быстрее, но только на целых числах. Также, реализация функции менее интуитивно понятна и требует дополнительного пояснения принципа работы."
   ]
  },
  {
   "cell_type": "markdown",
   "metadata": {},
   "source": [
    "Вопрос №2\n",
    "\n",
    "На языке Python написать минимум по 2 класса реализовывающих циклический буфер FIFO.\n",
    "Объяснить плюсы и минусы каждой реализации.\n",
    "\n",
    "Оценивается:\n",
    "\n",
    "Полнота и качество реализации,\n",
    "Оформление кода,\n",
    "Наличие сравнения и пояснения по быстродействию"
   ]
  },
  {
   "cell_type": "markdown",
   "metadata": {},
   "source": [
    "1) Вариант на основе односвязных списков (Singly linked list)"
   ]
  },
  {
   "cell_type": "code",
   "execution_count": 239,
   "metadata": {},
   "outputs": [],
   "source": [
    "class FifoLinkedList:\n",
    "    \"\"\"Реализация очереди FIFO с использованием односвязного списка.\"\"\"\n",
    "    def __init__(self) -> None:\n",
    "        self.first = None\n",
    "        self.last = None\n",
    "\n",
    "    def append(self, data: int) -> None:\n",
    "        \"\"\"Добавляет элемент в конец очереди.\"\"\"\n",
    "        node = [data, None]\n",
    "        if self.first is None:\n",
    "            self.first = node\n",
    "        else:\n",
    "            self.last[1] = node\n",
    "        self.last = node\n",
    "\n",
    "    def pop(self) -> int:\n",
    "        \"\"\"Удаляет и возвращает первый элемент из очереди.\"\"\"\n",
    "        if self.first is None:\n",
    "            raise IndexError(\"Очередь пуста\")\n",
    "        node = self.first\n",
    "        self.first = node[1]\n",
    "        return node[0]"
   ]
  },
  {
   "cell_type": "markdown",
   "metadata": {},
   "source": [
    "2) Вариант на основе стандартных списков Python (list)"
   ]
  },
  {
   "cell_type": "code",
   "execution_count": 240,
   "metadata": {},
   "outputs": [],
   "source": [
    "class FifoList:\n",
    "    \"\"\"Реализация очереди FIFO с использованием встроенного списка.\"\"\"\n",
    "    def __init__(self) -> None:\n",
    "        self.data = []\n",
    "\n",
    "    def append(self, data: int) -> None:\n",
    "        \"\"\"Добавляет элемент в конец очереди.\"\"\"\n",
    "        self.data.append(data)\n",
    "\n",
    "    def pop(self) -> int:\n",
    "        \"\"\"Удаляет и возвращает первый элемент из очереди.\"\"\"\n",
    "        if not self.data:\n",
    "            raise IndexError(\"Очередь пуста\")\n",
    "        return self.data.pop(0)"
   ]
  },
  {
   "cell_type": "markdown",
   "metadata": {},
   "source": [
    "3) Вариант на основе словаря (dict)"
   ]
  },
  {
   "cell_type": "code",
   "execution_count": 241,
   "metadata": {},
   "outputs": [],
   "source": [
    "class FifoDict:\n",
    "    \"\"\"Реализация очереди FIFO с использованием словаря.\"\"\"\n",
    "    def __init__(self) -> None:\n",
    "        self.data = {}\n",
    "        self.nextin = 0\n",
    "        self.nextout = 0\n",
    "\n",
    "    def append(self, data: int) -> None:\n",
    "        \"\"\"Добавляет элемент в конец очереди.\"\"\"\n",
    "        self.nextin += 1\n",
    "        self.data[self.nextin] = data\n",
    "\n",
    "    def pop(self) -> int:\n",
    "        \"\"\"Удаляет и возвращает первый элемент из очереди.\"\"\"\n",
    "        if self.nextout == self.nextin:\n",
    "            raise IndexError(\"Очередь пуста\")\n",
    "        self.nextout += 1\n",
    "        result = self.data[self.nextout]\n",
    "        del self.data[self.nextout]\n",
    "        return result"
   ]
  },
  {
   "cell_type": "markdown",
   "metadata": {},
   "source": [
    "Проверка и сравнение реализаций FIFO классов"
   ]
  },
  {
   "cell_type": "code",
   "execution_count": 242,
   "metadata": {},
   "outputs": [
    {
     "name": "stdout",
     "output_type": "stream",
     "text": [
      "10\n",
      "20\n",
      "5\n",
      "Ср. время ф-ии append          за 10000 запусков: 0.00000027 сек.\n",
      "Ср. время ф-ии pop             за 10000 запусков: 0.00000026 сек.\n"
     ]
    },
    {
     "data": {
      "text/plain": [
       "2.600400000119407e-07"
      ]
     },
     "execution_count": 242,
     "metadata": {},
     "output_type": "execute_result"
    }
   ],
   "source": [
    "a = FifoLinkedList()\n",
    "a.append(10)\n",
    "a.append(20)\n",
    "print(a.pop())  # 10\n",
    "a.append(5)\n",
    "print(a.pop())  # 20\n",
    "print(a.pop())  # 5\n",
    "measure_time(a.append,20,print_time=True)\n",
    "measure_time(a.pop,print_time=True)"
   ]
  },
  {
   "cell_type": "code",
   "execution_count": 243,
   "metadata": {},
   "outputs": [
    {
     "name": "stdout",
     "output_type": "stream",
     "text": [
      "10\n",
      "20\n",
      "5\n",
      "Ср. время ф-ии append          за 10000 запусков: 0.00000017 сек.\n",
      "Ср. время ф-ии pop             за 10000 запусков: 0.00000076 сек.\n"
     ]
    },
    {
     "data": {
      "text/plain": [
       "7.553200000074866e-07"
      ]
     },
     "execution_count": 243,
     "metadata": {},
     "output_type": "execute_result"
    }
   ],
   "source": [
    "a = FifoList()\n",
    "a.append(10)\n",
    "a.append(20)\n",
    "print(a.pop())  # 10\n",
    "a.append(5)\n",
    "print(a.pop())  # 20\n",
    "print(a.pop())  # 5\n",
    "measure_time(a.append,20,print_time=True)\n",
    "measure_time(a.pop,print_time=True)"
   ]
  },
  {
   "cell_type": "code",
   "execution_count": 244,
   "metadata": {},
   "outputs": [
    {
     "name": "stdout",
     "output_type": "stream",
     "text": [
      "10\n",
      "20\n",
      "5\n",
      "Ср. время ф-ии append          за 10000 запусков: 0.00000026 сек.\n",
      "Ср. время ф-ии pop             за 10000 запусков: 0.00000039 сек.\n"
     ]
    },
    {
     "data": {
      "text/plain": [
       "3.939700000046287e-07"
      ]
     },
     "execution_count": 244,
     "metadata": {},
     "output_type": "execute_result"
    }
   ],
   "source": [
    "a = FifoDict()\n",
    "a.append(10)\n",
    "a.append(20)\n",
    "print(a.pop())  # 10\n",
    "a.append(5)\n",
    "print(a.pop())  # 20\n",
    "print(a.pop())  # 5\n",
    "measure_time(a.append,20,print_time=True)\n",
    "measure_time(a.pop,print_time=True)"
   ]
  },
  {
   "cell_type": "code",
   "execution_count": 245,
   "metadata": {},
   "outputs": [],
   "source": [
    "def benchmark_fifo(fifo_class: Type, n: int, iterations: int = 10) -> Tuple[float, float]:\n",
    "    \"\"\"\n",
    "    Выполняет тестирование производительности операций append и pop для заданного FIFO-класса.\n",
    "\n",
    "    :param fifo_class: Класс реализации FIFO (например, FifoLinkedList, FifoList, FifoDict).\n",
    "    :param n: Количество элементов для добавления и удаления.\n",
    "    :param iterations: Количество повторений теста для усреднения времени.\n",
    "    :return: Среднее время для операций append и pop в секундах.\n",
    "    \"\"\"\n",
    "    append_times = []\n",
    "    pop_times = []\n",
    "\n",
    "    def append_fn() -> None:\n",
    "        fifo = fifo_class()\n",
    "        for i in range(n):\n",
    "            fifo.append(i)\n",
    "\n",
    "    def pop_fn() -> None:\n",
    "        fifo = fifo_class()\n",
    "        for i in range(n):\n",
    "            fifo.append(i)\n",
    "        for i in range(n):\n",
    "            fifo.pop()\n",
    "\n",
    "    for _ in range(iterations):\n",
    "        append_time = timeit.timeit(append_fn, number=1)\n",
    "        pop_time = timeit.timeit(pop_fn, number=1)\n",
    "        append_times.append(append_time)\n",
    "        pop_times.append(pop_time)\n",
    "\n",
    "    return sum(append_times) / iterations, sum(pop_times) / iterations\n",
    "\n",
    "def run_all_tests(n: int, iterations: int = 10) -> None:\n",
    "    \"\"\"\n",
    "    Запускает тестирование производительности для всех реализаций FIFO и выводит результаты.\n",
    "\n",
    "    :param n: Количество элементов для добавления и удаления.\n",
    "    :param iterations: Количество повторений для усреднения времени.\n",
    "    \"\"\"\n",
    "    print(f\"Тестирование с {n} элементами и {iterations} итерациями:\\n\")\n",
    "\n",
    "    implementations = [\n",
    "        (\"FifoLinkedList\", FifoLinkedList),\n",
    "        (\"FifoList\", FifoList),\n",
    "        (\"FifoDict\", FifoDict)\n",
    "    ]\n",
    "\n",
    "    for name, fifo_class in implementations:\n",
    "        avg_append, avg_pop = benchmark_fifo(fifo_class, n, iterations)\n",
    "        print(f\"{name}: Среднее время append: {avg_append:.6f} сек, Среднее время pop: {avg_pop:.6f} сек\")"
   ]
  },
  {
   "cell_type": "code",
   "execution_count": 246,
   "metadata": {},
   "outputs": [
    {
     "name": "stdout",
     "output_type": "stream",
     "text": [
      "Тестирование с 10000 элементами и 10 итерациями:\n",
      "\n",
      "FifoLinkedList: Среднее время append: 0.001874 сек, Среднее время pop: 0.002896 сек\n",
      "FifoList: Среднее время append: 0.001014 сек, Среднее время pop: 0.010833 сек\n",
      "FifoDict: Среднее время append: 0.001421 сек, Среднее время pop: 0.003724 сек\n"
     ]
    }
   ],
   "source": [
    "run_all_tests(n=10000, iterations=10)"
   ]
  },
  {
   "cell_type": "markdown",
   "metadata": {},
   "source": [
    "Вопрос №3\n",
    "\n",
    "На языке Python предложить алгоритм, который быстрее всего (по процессорным тикам)\n",
    "отсортирует данный ей массив чисел. Массив может быть любого размера со случайным порядком\n",
    "чисел (в том числе и отсортированным). Объяснить, почему вы считаете, что функция\n",
    "соответствует заданным критериям."
   ]
  },
  {
   "cell_type": "code",
   "execution_count": 247,
   "metadata": {},
   "outputs": [
    {
     "name": "stdout",
     "output_type": "stream",
     "text": [
      "Неотсортированный массив: [4, 2, 2, 6, 3, 3, 1, 6, 5, 2, 3]\n",
      "Отсортированный массив: [1, 2, 2, 2, 3, 3, 3, 4, 5, 6, 6]\n"
     ]
    }
   ],
   "source": [
    "def countingSort(arr):\n",
    "    # 1. Находим макс. значение в массиве (O(~n) по времени)\n",
    "    max_val = max(arr)\n",
    "    # 2. Создаем массив для подсчета количества вхождений (O(~k) по времени и пространству)\n",
    "    count = [0] * (max_val + 1)\n",
    "\n",
    "    # 3. Подсчитываем вхождения каждого числа в массиве (O(n) по времени)\n",
    "    while len(arr) > 0:\n",
    "        num = arr.pop(0)  # Извлекаем первый элемент (O(n) по времени)\n",
    "        count[num] += 1   # Увеличиваем счетчик для этого элемента (O(1))\n",
    "\n",
    "    # 4. Формируем отсортированный массив на основе счетчика (O(k) по времени)\n",
    "    for i in range(len(count)):\n",
    "        while count[i] > 0:  # Проходим по массиву count (O(k))\n",
    "            arr.append(i)    # Добавляем элемент в отсортированный массив (O(1))\n",
    "            count[i] -= 1    # Уменьшаем счетчик на 1 (O(1))\n",
    "\n",
    "    return arr  # Возвращаем отсортированный массив\n",
    "\n",
    "unsortedArr = [4, 2, 2, 6, 3, 3, 1, 6, 5, 2, 3]\n",
    "print(\"Неотсортированный массив:\", unsortedArr)\n",
    "sortedArr = countingSort(unsortedArr)\n",
    "print(\"Отсортированный массив:\", sortedArr)\n",
    "\n",
    "# Временная сложность: O(n + k)\n",
    "# Сложность по памяти: O(k)\n",
    "# n - кол-во элементов в массиве,\n",
    "# k - диапазон элементов (разница между макс. и мин. элементом массива + 1)"
   ]
  },
  {
   "cell_type": "markdown",
   "metadata": {},
   "source": [
    "Условия использования алгоритма сортировки подсчётом (Counting sort):\n",
    "1) Сортируемые элементы должны быть целыми числами и находятся в определённом диапазаоне\n",
    "2) Неэффективен для сортировки больших массивов с большим диапазоном возможных значений\n",
    "3) Подходит для сортировки небольших диапазонов значений"
   ]
  },
  {
   "cell_type": "markdown",
   "metadata": {},
   "source": [
    "В нашем случае взят массив с малым диапазоном значений (max-min), поэтому временная сложность: O(n + k) = O(11 + 6 - 1 + 1) = O(17)\n",
    "\n",
    "Выбранный алгоритм можно использовать в качестве вспомогательного алгоритма для предварительной обработки данных или фильтрации уникальных значений, чтобы сократить время для других алгоритмов сортировки"
   ]
  }
 ],
 "metadata": {
  "kernelspec": {
   "display_name": "Python 3",
   "language": "python",
   "name": "python3"
  },
  "language_info": {
   "codemirror_mode": {
    "name": "ipython",
    "version": 3
   },
   "file_extension": ".py",
   "mimetype": "text/x-python",
   "name": "python",
   "nbconvert_exporter": "python",
   "pygments_lexer": "ipython3",
   "version": "3.12.5"
  }
 },
 "nbformat": 4,
 "nbformat_minor": 2
}
